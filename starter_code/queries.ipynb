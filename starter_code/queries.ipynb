{
 "cells": [
  {
   "cell_type": "markdown",
   "metadata": {},
   "source": [
    "![Ironhack Logo](https://i.imgur.com/1QgrNNw.png)"
   ]
  },
  {
   "cell_type": "code",
   "execution_count": 1,
   "metadata": {},
   "outputs": [],
   "source": [
    "from pymongo import MongoClient\n",
    "client = MongoClient('localhost', 27017)\n",
    "db = client['companies']\n",
    "collection = db.companies"
   ]
  },
  {
   "cell_type": "markdown",
   "metadata": {},
   "source": [
    "# Answers\n",
    "### 1. All the companies that it's name match 'Babelgum'. Retrieve only their `name` field."
   ]
  },
  {
   "cell_type": "code",
   "execution_count": 2,
   "metadata": {},
   "outputs": [
    {
     "name": "stdout",
     "output_type": "stream",
     "text": [
      "Babelgum\n"
     ]
    }
   ],
   "source": [
    "a = collection.find({'name': 'Babelgum'}, {'name': 1, '_id': 0})\n",
    "for e in a:\n",
    "    print(e['name'])"
   ]
  },
  {
   "cell_type": "markdown",
   "metadata": {},
   "source": [
    "### 2. All the companies that have more than 5000 employees. Limit the search to 20 companies and sort them by **number of employees**."
   ]
  },
  {
   "cell_type": "code",
   "execution_count": 3,
   "metadata": {},
   "outputs": [
    {
     "name": "stdout",
     "output_type": "stream",
     "text": [
      "Siemens: 405000 employees\n",
      "IBM: 388000 employees\n",
      "Toyota: 320000 employees\n",
      "PayPal: 300000 employees\n",
      "Nippon Telegraph and Telephone Corporation: 227000 employees\n",
      "Samsung Electronics: 221726 employees\n",
      "Accenture: 205000 employees\n",
      "Tata Consultancy Services: 200300 employees\n",
      "Flextronics International: 200000 employees\n",
      "Safeway: 186000 employees\n",
      "Sony: 180500 employees\n",
      "LG: 177000 employees\n",
      "Ford: 171000 employees\n",
      "Boeing: 160000 employees\n",
      "Digital Equipment Corporation: 140000 employees\n",
      "Nokia: 125000 employees\n",
      "MItsubishi Electric: 107000 employees\n",
      "MItsubishi Electric: 107000 employees\n",
      "Comcast: 100000 employees\n",
      "Bertelsmann: 100000 employees\n"
     ]
    }
   ],
   "source": [
    "b = collection.find(\n",
    "    {'number_of_employees': {'$gt': 5000}},\n",
    "    {'name': 1, 'number_of_employees': 1, '_id': 0}\n",
    ").sort('number_of_employees', -1).limit(20)\n",
    "\n",
    "for e in b:\n",
    "    print('{}: {} employees'.format(e['name'], e['number_of_employees']))"
   ]
  },
  {
   "cell_type": "markdown",
   "metadata": {},
   "source": [
    "### 3. All the companies founded between 2000 and 2005, both years included. Retrieve only the `name` and `founded_year` fileds."
   ]
  },
  {
   "cell_type": "code",
   "execution_count": 4,
   "metadata": {},
   "outputs": [
    {
     "name": "stdout",
     "output_type": "stream",
     "text": [
      "AllofMP3: 2000\n",
      "Steorn: 2000\n",
      "MeeVee: 2000\n",
      "PhotoBox: 2000\n",
      "Boonex: 2000\n",
      "Sulake: 2000\n",
      "SelectMinds: 2000\n",
      "ContextWeb: 2000\n",
      "ZoomInfo: 2000\n",
      "eHarmony: 2000\n",
      "Espotting: 2000\n",
      "airG: 2000\n",
      "Marchex: 2000\n",
      "ContactOffice: 2000\n",
      "WooMe: 2000\n",
      "Boomi: 2000\n",
      "zSlide: 2000\n",
      "Phrasebase: 2000\n",
      "Ubertor: 2000\n",
      "JobDig: 2000\n"
     ]
    }
   ],
   "source": [
    "c = collection.find(\n",
    "    {'founded_year': {'$gte': 2000, '$lte': 2005}},\n",
    "    {'name': 1, 'founded_year': 1, '_id': 0}\n",
    ").sort('founded_year')\n",
    "\n",
    "for e in c[:20]:\n",
    "    print('{}: {}'.format(e['name'], e['founded_year']))"
   ]
  },
  {
   "cell_type": "markdown",
   "metadata": {},
   "source": [
    "### 4. All the companies that had a Valuation Amount of more than 100.000.000 and have been founded before 2010. Retrieve only the `name` and `ipo` fields."
   ]
  },
  {
   "cell_type": "code",
   "execution_count": 5,
   "metadata": {},
   "outputs": [
    {
     "name": "stdout",
     "output_type": "stream",
     "text": [
      "Twitter: 18100000000 USD\n",
      "Facebook: 104000000000 USD\n",
      "Yelp: 1300000000 USD\n",
      "LinkedIn: 9310000000 USD\n",
      "Brightcove: 290000000 USD\n",
      "Amazon: 100000000000 USD\n",
      "KIT digital: 235000000 USD\n",
      "Nielsen: 1600000000 USD\n",
      "OpenTable: 1050000000 USD\n",
      "ChannelAdvisor: 287000000 USD\n",
      "Jive Software: 1000000000 USD\n",
      "Zillow: 2550000000 USD\n",
      "Wix: 750000000 USD\n",
      "Shutterfly: 350000000 USD\n",
      "TripAdvisor: 3273770000 USD\n",
      "Salesforce: 110000000 USD\n",
      "HomeAway: 3000000000 USD\n",
      "QuinStreet: 140000000 USD\n",
      "Rackspace: 5440000000 USD\n",
      "BMC Software: 6000000000 USD\n",
      "Higher One: 1060000000 USD\n",
      "Infoblox: 824000000 USD\n",
      "Tencent: 11000000000 USD\n",
      "Marketo: 465000000 USD\n",
      "Baidu: 4000000000 USD\n",
      "Geeknet: 134000000 USD\n",
      "Opsware: 450000000 USD\n",
      "Telenav: 337000000 USD\n",
      "Rally Software: 315000000 USD\n",
      "BrightSource Energy: 1000000000 USD\n",
      "Mixi: 970000000 USD\n",
      "QlikTech: 1000000000 USD\n",
      "Chegg: 1100000000 USD\n",
      "Chegg: 1100000000 USD\n",
      "Groupon: 12800000000 USD\n",
      "SolarWinds: 803000000 USD\n",
      "GREE: 108960000000 JPY\n",
      "Tudou: 174000000 USD\n",
      "DemandTec: 245000000 USD\n",
      "Cornerstone OnDemand: 900000000 USD\n",
      "Western Digital: 9430000000 USD\n",
      "Millennial Media: 973500000 USD\n"
     ]
    }
   ],
   "source": [
    "d = collection.find(\n",
    "    {'ipo.valuation_amount': {'$gt': 100000000}, 'founded_year': {'$lt': 2010}},\n",
    "    {'name': 1, 'ipo': 1, '_id':0})\n",
    "\n",
    "for e in d:\n",
    "    print('{}: {} {}'.format(e['name'], e['ipo']['valuation_amount'], e['ipo']['valuation_currency_code']))"
   ]
  },
  {
   "cell_type": "markdown",
   "metadata": {},
   "source": [
    "### 5. All the companies that have less than 1000 employees and have been founded before 2005. Order them by the number of employees and limit the search to 10 companies."
   ]
  },
  {
   "cell_type": "code",
   "execution_count": 11,
   "metadata": {},
   "outputs": [
    {
     "name": "stdout",
     "output_type": "stream",
     "text": [
      "Infinera Corporation, 974 employees, founded in 2000\n",
      "NorthPoint Communications Group, 948 employees, founded in 1997\n",
      "888 Holdings, 931 employees, founded in 1997\n",
      "Forrester Research, 903 employees, founded in 1983\n",
      "SonicWALL, 900 employees, founded in 1991\n",
      "Webmetrics, 900 employees, founded in 1999\n",
      "Cornerstone OnDemand, 881 employees, founded in 1999\n",
      "Yelp, 800 employees, founded in 2004\n",
      "ZoomInfo, 800 employees, founded in 2000\n",
      "MySpace, 800 employees, founded in 2003\n"
     ]
    }
   ],
   "source": [
    "e = collection.find(\n",
    "    {'number_of_employees': {'$lt': 1000}, 'founded_year': {'$lt': 2005}}\n",
    ").sort('number_of_employees', -1).limit(10)\n",
    "for a in e:\n",
    "    print('{}, {} employees, founded in {}'.format(a['name'], a['number_of_employees'], a['founded_year']))"
   ]
  },
  {
   "cell_type": "markdown",
   "metadata": {},
   "source": [
    "### 6. All the companies that don't include the `partners` field."
   ]
  },
  {
   "cell_type": "code",
   "execution_count": 7,
   "metadata": {},
   "outputs": [
    {
     "name": "stdout",
     "output_type": "stream",
     "text": [
      "AdventNet\n",
      "Wetpaint\n",
      "Zoho\n",
      "Digg\n",
      "Omnidrive\n",
      "Postini\n",
      "Flektor\n",
      "Geni\n",
      "Fox Interactive Media\n",
      "Gizmoz\n",
      "Helio\n",
      "Lala\n",
      "StumbleUpon\n",
      "Slacker\n",
      "Scribd\n",
      "MeetMoi\n",
      "Babelgum\n",
      "Joost\n",
      "CBS\n",
      "Viacom\n"
     ]
    }
   ],
   "source": [
    "f = collection.find({'partners': {'$size': 0}}, {'name': 1, '_id': 0})\n",
    "for e in f[:20]:\n",
    "    print(e['name'])"
   ]
  },
  {
   "cell_type": "markdown",
   "metadata": {},
   "source": [
    "### 7. All the companies that have a null type of value on the `category_code` field."
   ]
  },
  {
   "cell_type": "code",
   "execution_count": 8,
   "metadata": {},
   "outputs": [
    {
     "name": "stdout",
     "output_type": "stream",
     "text": [
      "Collective\n",
      "Snimmer\n",
      "KoolIM\n",
      "VidKing\n",
      "Level9 Media\n",
      "Drigg\n",
      "SpaceTime\n",
      "MMDAYS\n",
      "Touch Clarity\n",
      "Inside Group\n",
      "Repeater Store\n",
      "Tapesh\n",
      "iPersians\n",
      "NewPersia\n",
      "Pyra Labs\n",
      "Feedmap\n",
      "NuvoMedia\n",
      "Intwine\n",
      "The Weinstein Company\n",
      "ExecuNet\n"
     ]
    }
   ],
   "source": [
    "g = collection.find({'category_code': None}, {'name': 1, '_id': 0})\n",
    "for e in g[:20]:\n",
    "    print(e['name'])"
   ]
  },
  {
   "cell_type": "markdown",
   "metadata": {},
   "source": [
    "### 8. All the companies that have at least 100 employees but less than 1000. Retrieve only the `name` and `number of employees` fields."
   ]
  },
  {
   "cell_type": "code",
   "execution_count": 17,
   "metadata": {},
   "outputs": [
    {
     "name": "stdout",
     "output_type": "stream",
     "text": [
      "Datamonitor: 984 employees\n",
      "Infinera Corporation: 974 employees\n",
      "Box: 950 employees\n",
      "NorthPoint Communications Group: 948 employees\n",
      "888 Holdings: 931 employees\n",
      "Forrester Research: 903 employees\n",
      "Workday: 900 employees\n",
      "InMobi: 900 employees\n",
      "Relax Solutions Pvt Ltd: 900 employees\n",
      "SonicWALL: 900 employees\n",
      "Webmetrics: 900 employees\n",
      "Cornerstone OnDemand: 881 employees\n",
      "Yelp: 800 employees\n",
      "ZoomInfo: 800 employees\n",
      "MySpace: 800 employees\n",
      "Mozilla: 800 employees\n",
      "Buongiorno: 800 employees\n",
      "Cvent: 800 employees\n",
      "Wayfair: 800 employees\n",
      "BitDefender: 800 employees\n"
     ]
    }
   ],
   "source": [
    "# h = collection.find({'employees': {'$gte': 100, '$lt': 1000}}, {'name': 1, 'number_of_employees': 1, '_id': 0})\n",
    "h = collection.find(\n",
    "    {'$and':[\n",
    "        {'number_of_employees': {'$gte': 100}},\n",
    "        {'number_of_employees': {'$lt': 1000}}]},\n",
    "    {'name': 1, 'number_of_employees': 1, '_id': 0}\n",
    ").sort('number_of_employees', -1)\n",
    "\n",
    "for e in h[:20]:\n",
    "    print('{}: {} employees'.format(e['name'], e['number_of_employees']))"
   ]
  },
  {
   "cell_type": "markdown",
   "metadata": {},
   "source": [
    "### 9. Order all the companies by their IPO price descendently."
   ]
  },
  {
   "cell_type": "code",
   "execution_count": null,
   "metadata": {},
   "outputs": [],
   "source": []
  },
  {
   "cell_type": "markdown",
   "metadata": {},
   "source": [
    "### 10. Retrieve the 10 companies with more employees, order by the `number of employees`"
   ]
  },
  {
   "cell_type": "code",
   "execution_count": 10,
   "metadata": {},
   "outputs": [],
   "source": [
    "j = collection.find({'name':1, 'number_of_employees': 1, '_id': 0}).sort('number_of_employees', -1).limit(10)\n",
    "for e in j:\n",
    "    print('{}: {} employees'.format(e['name'], e['number_of_employees']))"
   ]
  },
  {
   "cell_type": "markdown",
   "metadata": {},
   "source": [
    "### 11. All the companies founded on the second semester of the year. Limit your search to 1000 companies."
   ]
  },
  {
   "cell_type": "code",
   "execution_count": null,
   "metadata": {},
   "outputs": [],
   "source": []
  },
  {
   "cell_type": "markdown",
   "metadata": {},
   "source": [
    "### 12. All the companies that have been 'deadpooled' after the third year."
   ]
  },
  {
   "cell_type": "code",
   "execution_count": null,
   "metadata": {},
   "outputs": [],
   "source": []
  },
  {
   "cell_type": "markdown",
   "metadata": {},
   "source": [
    "### 13. All the companies founded before 2000 that have and acquisition amount of more than 10.000.000"
   ]
  },
  {
   "cell_type": "code",
   "execution_count": null,
   "metadata": {},
   "outputs": [],
   "source": []
  },
  {
   "cell_type": "markdown",
   "metadata": {},
   "source": [
    "### 14. All the companies that have been acquired after 2015, order by the acquisition amount, and retrieve only their `name` and `acquisiton` field."
   ]
  },
  {
   "cell_type": "code",
   "execution_count": null,
   "metadata": {},
   "outputs": [],
   "source": []
  },
  {
   "cell_type": "markdown",
   "metadata": {},
   "source": [
    "### 15. Order the companies by their `founded year`, retrieving only their `name` and `founded year`."
   ]
  },
  {
   "cell_type": "code",
   "execution_count": null,
   "metadata": {},
   "outputs": [],
   "source": []
  },
  {
   "cell_type": "markdown",
   "metadata": {},
   "source": [
    "### 16. All the companies that have been founded on the first seven days of the month, including the seventh. Sort them by their `aquisition price` descendently. Limit the search to 10 documents."
   ]
  },
  {
   "cell_type": "code",
   "execution_count": null,
   "metadata": {},
   "outputs": [],
   "source": []
  },
  {
   "cell_type": "markdown",
   "metadata": {},
   "source": [
    "### 17. All the companies on the 'web' `category` that have more than 4000 employees. Sort them by the amount of employees in ascendant order."
   ]
  },
  {
   "cell_type": "code",
   "execution_count": null,
   "metadata": {},
   "outputs": [],
   "source": []
  },
  {
   "cell_type": "markdown",
   "metadata": {},
   "source": [
    "### 18. All the companies which their acquisition amount is more than 10.000.000, and currency are 'EUR'.\n"
   ]
  },
  {
   "cell_type": "code",
   "execution_count": null,
   "metadata": {},
   "outputs": [],
   "source": []
  },
  {
   "cell_type": "markdown",
   "metadata": {},
   "source": [
    "### 19. All the companies that have been acquired on the first trimester of the year. Limit the search to 10 companies, and retrieve only their `name` and `acquisition` fields."
   ]
  },
  {
   "cell_type": "code",
   "execution_count": null,
   "metadata": {},
   "outputs": [],
   "source": []
  },
  {
   "cell_type": "markdown",
   "metadata": {},
   "source": [
    "### 20. All the companies that have been founded between 2000 and 2010, but have not been acquired before 2011."
   ]
  },
  {
   "cell_type": "code",
   "execution_count": null,
   "metadata": {},
   "outputs": [],
   "source": []
  }
 ],
 "metadata": {
  "kernelspec": {
   "display_name": "Python 3",
   "language": "python",
   "name": "python3"
  },
  "language_info": {
   "codemirror_mode": {
    "name": "ipython",
    "version": 3
   },
   "file_extension": ".py",
   "mimetype": "text/x-python",
   "name": "python",
   "nbconvert_exporter": "python",
   "pygments_lexer": "ipython3",
   "version": "3.6.7"
  }
 },
 "nbformat": 4,
 "nbformat_minor": 2
}
